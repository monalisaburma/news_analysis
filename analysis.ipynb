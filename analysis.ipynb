{
 "cells": [
  {
   "cell_type": "code",
   "execution_count": 13,
   "metadata": {},
   "outputs": [],
   "source": [
    "import pandas as pd\n",
    "import re\n",
    "from textblob import TextBlob\n",
    "from collections import Counter\n"
   ]
  },
  {
   "cell_type": "code",
   "execution_count": 37,
   "metadata": {},
   "outputs": [
    {
     "data": {
      "text/plain": [
       "0    Retailers, the makers of foods marketed for we...\n",
       "1    Move over, Ozempic — there’s a new drug in tow...\n",
       "2    Sept 14 (Reuters) - Bristol Myers Squibb (BMY....\n",
       "3    Austin Wolcott was 18 years old and pretty sur...\n",
       "4    Cancer, often referred to as the “emperor of a...\n",
       "Name: Article, dtype: object"
      ]
     },
     "execution_count": 37,
     "metadata": {},
     "output_type": "execute_result"
    }
   ],
   "source": [
    "df = pd.read_excel('Assignment.xlsx')\n",
    "\n",
    "articles = df['Article']\n",
    "articles.head()\n"
   ]
  },
  {
   "cell_type": "markdown",
   "metadata": {},
   "source": [
    "## Cleaning Up Articles"
   ]
  },
  {
   "cell_type": "code",
   "execution_count": 39,
   "metadata": {},
   "outputs": [
    {
     "data": {
      "text/plain": [
       "['Retailers makers foods marketed weight loss other types companies could see knockon effects from rise diabetes weight loss drugs like Ozempic As they do every summer publicly traded companies posted their secondquarter results while Americans were baring their bodies beach But year timing was apt several earnings calls August chief executives reassured investors Ozempic revolution had not left them dust they could somehow share blazing success new diabetes weight loss drugs puts us good position be solution those who are drugs said Dan R Chard chief executive Medifast which makes diet products like shakes protein bars adding Theyre looking guidance He told analysts even while explaining newgeneration drugs had helped pummel earnings down 347 percent year year We will continue study Michael Johnson chief executive nutritional supplement maker Herbalife told investors when we see an opportunity capitalize we will theory opportunity both making profits losing fortunes could be vast not only companies behind these drugs but also some completely different industries Known as GLP1 drugs medications are already driving big profits Novo Nordisk makes both Ozempic which has been approved only Type 2 diabetes its close relative Wegovy which has been approved weight loss They mimic glucagonlike peptide regulates appetite brain leaving people feeling sated hours Together they helped send Novos earnings rocketing up 32 percent first half year Novos market value now larger than entire Danish economy Eli Lillys sales surged 28 percent second quarter thanks another diabetes drug Mounjaro which Food Drug Administration may approve weight loss year full potential isnt even clear yet market weight loss drugs huge There are roughly 750 million obese people worldwide including about 42 percent adults United States where obesityrelated illnesses incur billions dollars health care costs each year But Novo says GLP1 drugs could eventually have other uses like helping prevent cardiovascular disease among obese adults There are signs they could treat addiction even Alzheimers too market potential very very significant Novos chief financial officer Karsten Knudsen told me when I visited company June Were operating kind unusual territory ripple effects are widening Retailers like Walmart Kroger Rite Aid say GLP1 prescriptions are bringing more people into stores where they make other purchases Walmarts chief executive Doug McMillon told analysts August its executives expect consumables health wellness primarily due popularity some GLP1 drugs grow as percent total Medtronics chief executive Geoff Martha said company had seen modest dip bariatric surgery presumably as people opted weight loss drugs instead some analysts believe drugs could disrupt American diet If youre eating fast food every day youll probably continue eat fast food every day James van Geelen Citrinas Capital Management said Bloombergs Odd Lots podcast You will just eat lot less Still there room other approaches fighting obesity These drugs are game changers but an asterisk said David Ludwig an obesity specialist pediatrics professor at Harvard Medical School drugs come long list side effects Even if you can reduce weight across population drugs its not going eliminate risks poor diet Flush cash Novo agrees We need be looking at whats next thing its executive vice president commercial strategy Camilla Sylvest told me June company launched an obesity prevention unit near Copenhagen research how stop disease before people need take drugs lose weight Vivienne Walt US labor market begins look like its old self Employers added 187000 jobs August Labor Department reported Friday unemployment rose 38 percent as economy continued lose momentum built up after pandemic lockdowns Commerce Secretary Gina Raimondo visits China She had tricky task promoting trade between two superpowers while holding firm technology export limits imposed name American national security two countries agreed create new dialogues including working group commercial issues White House names first drugs set Medicare price negotiations longawaited list 10 medicines will be subject landmark new program meant reduce costs Medicare Drugmakers have pushed back against plan including court Republicans have criticized initiative as government overreach UBS reports 29 billion quarterly profit an asterisk huge gain biggest banking history stems from banks acquisition its rival Credit Suisse spring about 32 billion steep discount skewing UBSs results But belies challenges UBS faces as moves complete largest takeover bank since 2008 financial crisis When Emily Weiss stepped down last year as chief executive Glossier skin care beauty brand she founded 2014 some called end girlboss archetype mediasavvy female founders venturedarling millennialfocused startups had been propelled by Girlboss Nasty Girl founder Sophia Amorusos 2014 memoir Glossier its directtoconsumer model voicey website changed way women buy makeup eventually passing 1 billion valuation But brand stumbled as struggled move into brickandmortar retail faced criticism from retail employees who alleged toxic racist working environment shelved projects like makeup line departed from its dewy barelythere look DealBook spoke Marisa Meltzer author upcoming book Glossy Ambition Beauty Inside Story Emily Weisss Glossier about what lessons we might glean from Weiss Girlboss movement interview has been edited condensed clarity Can you contextualize Girlboss movement was pretty offensive diminutive No one except Sophia was calling themselves out as girlboss But was also something benefited them because attracted interest was way them get press about their businesses wasnt typical things female founders CEOs sometimes had do like fashion spread There was big debate at time over whether press would have covered scandals at companies like Outdoor Voices Man Repeller Glossier differently if they had men at helm What do you think I think there was bit thirst blood These women had been propped up way was kind annoying Im sure was annoying them too Some those companies had real problems like being sued over firing pregnant employees other companies had like Glossier an accusation having workplace largely their retail employees wasnt ideal Thats different than criminal behavior reality these companies werent same women at their helms were not all same they werent making same mistakes they also didnt have same level success What happens Glossier now Glossier seems have taken time since Emily stepped down reevaluate They decided really belatedly go into retail They launched Sephora last February larger task theyre trying do make company better shape an exit',\n",
       " 'Move over Ozempic theres new drug town Eli Lillys Zepbound active ingredient tirzepatide has been approved by Food Drug Administration use by obese or overweight adults who have at least one weightrelated health complication like Type 2 diabetes high blood pressure or high cholesterol Tirzepatide sold as Mounjaro has already been approved treating type 2 diabetes since May 2022 but now patients can be prescribed drug chronic weight management Obesity overweight are serious conditions can be associated some leading causes death such as heart disease stroke diabetes Dr John Sharretts director Division Diabetes Lipid Disorders Obesity FDAs Center Drug Evaluation Research said statement light increasing rates both obesity overweight United States todays approval addresses an unmet medical need Approximately 70 Americans are overweight or obese according FDA worrying report published by World Obesity Federation year projected more than half worlds population could be overweight or obese by 2035 However FDA reports dropping only 5 10 overall body weight can lower risk developing heart disease as result cue weight management drugs which can help people lose stubborn pounds when diet exercise alone fail Unfortunately despite scientific evidence contrary obesity often seen as lifestyle choice something people should manage themselves Dr Leonard Glass senior vice president global medical affairs at Lilly Diabetes Obesity said statement Lilly aiming eliminate misperceptions about disease transform how can be managed Zepbound which was approved Wednesday has been shown be an effective chronic weight management drug combination lifestyle changes like diet exercise by activating receptors two hormones glucagonlike peptide1 GLP1 glucosedependent insulinotropic polypeptide GIP suppress appetite thereby curbing food intake Side effects weekly injectable include nausea vomiting abdominal discomfort or pain fatigue diarrhea constipation burping hair loss acid reflux allergic reactions trials drug caused thyroid Ccell tumors rodents although unknown whether Zepbound can result same cancer humans According drugs manufacturer Zepbound expected be available Americans by end year list price approximately 1059 which Eli Lilly estimates 20 less than rival semaglutide otherwise known as Novo Nordisks Ozempic or Wegovy which costs staggering 1300 But as demand weight loss cureall soars has led market dangerous counterfeit dupes which have landed desperate users hospital despite pressure more medication access does not improve or change insurance coverage which has been limited explained Dr Angela Fitch chief medical officer at weightinclusive healthcare company knownwell remains problem obesity treated as carve out condition instead standard benefit despite fact chronic condition she told Post statement Were hopeful continued advocacy advancement science data we will continue see improved access lifechanging medication',\n",
       " 'Sept 14 Reuters Bristol Myers Squibb BMYN said Thursday plans double number treatments testing clinical trials focus cell therapies over next 18 months as contends increasing generic competition two its topselling drugs drugmaker which currently has six candidates trials will advance six more its research pipeline including three cell therapies target immune system disorders different types cancer New Yorkbased company has been pressured by declining demand two its top drugs blood cancer treatment Revlimid blood thinner Eliquis which face generic competition Bristol partner Pfizers PFEN blood thinner Eliquis was also list 10 drugs will be subject firstever price negotiations by US Medicare health program company recently received regulatory approval new cell therapy manufacturing facility Devens Massachusetts Bristol said will continue expanding its manufacturing capacity Bristol which already has two approved cell therapies US Breyanzi Abecma targeting different blood cancer indications said plans continue development treatment other diseases such as lupus erythematosus multiple sclerosis drugmaker hosting an RD day Thursday where executives are expected provide details companys research strategy',\n",
       " 'Austin Wolcott was 18 years old pretty sure he wouldnt survive year was summer 2020 Wolcott had been given disheartening news his Stage 4 Classical Hodgkins Lymphoma which hed been battling just under year was back Despite aggressive chemotherapy which briefly sent his cancer into remission malignancy spread his vertebrae But his doctors at Bone Marrow Transplant Clinic Chapel Hill North Carolina had an idea Would Wolcott be willing try relatively new experimental treatment something called CART therapy I didnt feel especially hopeful about but I was willing try anything may help says Wolcott Everything about CART sounded like something out sciencefiction movie he says was portrayed as cancerseeking missile knew exactly where go what do description isnt hyperbolic says Dr Michael Chu an oncologist whos been leading CART clinical trials at Cross Cancer Institute Edmonton Alberta CART therapy basically boils down building cells outsmart cancer beating at its own game Cancers arent supposed develop humans Chu explains Our Tcells are capable recognizing killing mutated cells before happens But cancer can be especially sneaky They hide their identifying barcodes so Tcells cant see them CART therapy patients own Tcellswhite blood cells fight virusesare removed from their body genetically edited new barcode reader hence name chimeric antigen receptor CAR Chu says Those new improved cancerkilling canceridentifying machines are returned body ready start an allout cellular war Imagine your Tcells as miniTerminators but without Arnold Schwarzeneggers accent Although he was doubtful Wolcott took chance trial He received his first CART infusion Nov 6 2020 only side effects were some minor body aches he says Within days his cancer was retreating month later was gone As today I am two years eight months 26 days into remission he says CART therapy may not be household name just yet but its cusp revolutionizing cancer treatment Since was first approved by FDA advanced leukemia 2017thenFDA Commissioner Scott Gottlieb called new frontier medical innovationthe science has jumped by leaps bounds There are now six CART therapies available various blood cancers used target everything from lymphomas leukemia myeloma While still clinical trial stages 2022 report from University Philadelphia found two out three patients treated CART therapy chronic lymphocytic leukemia were more than decade later still remission So many patients have been miraculously cured by CART says Dr John F DiPersio chief division oncology at Washington University St Louis Hes even watched medical colleague cancer surgeon come close death because lymphoma then have complete recovery thanks CART science around CART has come long way since 90s when immunologists like Dr Michel Sadelain were first trying convince their peers genetically engineered Tcells were technology worth exploring beginning was Why would one bother engineer T cells later was will not work says Sadelain who was recently awarded Breakthrough Prize along University Pennsylvania immunologist Carl June his work CART therapy After we demonstrated feasibility efficacy mice 2003 was will not work humans His ideas ran contrary most common approach stimulate Tcells which based vaccines says Sadelain But enough persistence some remarkable early trial results skepticism turned excitement While therapy worked miracles some patients many others did nothing reasons still arent clear Tumors evolve ways suppress immune system says Dr Brian Brown Director Icahn Genomics Institute at Mount Sinai New York City example cancers will flip switch Tcells turn them off They put brake Tcells How they do how Tcells can outsmart cancer cells at their own game still being investigated Theres also problem cytokines pesky molecules released by CART cells promote inflammation can lead dangerously high fevers vomiting organ failure But recent research from Dr Michael Mitchell an associate professor School Engineering Applied Science at University Pennsylvania has developed new method essentially stop cytokine release during CART therapy he says Cells are treated sugars injected polymer called polyethylene glycol which creates what Mitchell calls suit armor around Tcells preventing cytokine release Mitchell feels hopeful new technology wont just make difference current CART therapies but might even demonstrate potential address some grand challenges we face using CART cells treat solid tumors Solid tumors which comprise majority cancerslike breast colon or lung cancer have so far eluded CART therapy Blood cancers are easier attack CAR Tcells says Chu Theyre essentially there blood where CAR Tcells are first introduced But CAR Tcells have find solid tumors by crossing from blood into organs soft tissues Manipulating Tcells into super CAR Tcells armored cells Mitchell developingmight be key finally making CART feasible option attacking solid cancers then theres issue cost outofpocket infusion price can range from 375000 475000 per person while many insurance providers pay at least some bill Medicare instance reimburses around 65 treatment cost thats just procedure itself Side effects like high fever severe nausea trouble breathing can keep CART patient intensive care weeks some have walked away 1 million debt cost must come down says DiPersio most obvious way do by reducing regulatory mandates by FDA which DiPersio thinks unlikely happen or developing offtheshelf therapies which use engineered cells from third party rather than patients own Tcells Big pharma companies like AstraZeneca Novartis are already conducting trials offtheshelf technology Another development could affect staggering costs transforming treatment from lengthy costly hospital visit into an outpatient procedure says Brown goal scenario where patient can come be injected DNA or RNA will turn fraction patients T cells into CART cells they will go kill cancer cells would have big impact cost Despite all hurdles many those involved CART cell research are cautiously optimistic about where technology heading tip iceberg says Chu There are CAR Tcells have shown significant activity against glioblastoma multiforme most common brain cancer including one killed Senator John McCainand some forms muscle bone cancers Brown says CART therapy has potential be used beyond just cancer like inflammation autoimmune disease possibly even treat aging he says Its not science fiction because all these things have already been demonstrated animal models will eventually move humans Though these seismic shifts wont happen overnightoutside pandemics medicine moves slowly Brown says its still remarkable what theyve achieved so far What made Brown believe therapy was something special were living just few minutes after Big Bang as he puts are statistics Its very common us read results from clinical trials new drugs you have squint see difference he says You read how drug extended life sick patients from sixmonth survival an eightmonth survival But CART he says numbers are more startling Theyre reporting remissions more than year you dont have be radiologist see differences tumor masses hadnt just shrunk they were completely gone from these patients Wolcott whos now 22 living his wifewhom he met soon after he got sick Greensboro NC hes still shock cancer he thought would kill him remains moment his rearview mirror day I found out I was officially remission felt like first day my life he says salute 1000 days being cancerfree Wolcott celebrated trip September Blue Ridge Rock Festival Standing dancing hours blazing Southern sun wouldve been unthinkable Wolcott just few years ago There was time during my treatment where I felt like Id spend rest my life locked inside Wolcott says Every day Im alive out world again I feel grateful',\n",
       " 'Cancer often referred as emperor all maladies an unyielding adversary presents formidable challenges global health complex amalgamation diseases each its own unique characteristics making its treatment continuous arduous battle both healthcare professionals patients everevolving landscape cancer therapeutics one name carving out unique space innovative solutions CytoMed Therapeutics Equipped novel disruptive approach blends advanced cellular science cuttingedge biotechnology CytoMed championing revolution aiming transform battlefield cancer treatment Their mission not just about finding effective solutions but also making those solutions accessible affordable all thereby addressing one most significant barriers cancer care prohibitive costs journey CytoMed encapsulates determined stride towards breaking barriers changing narratives bringing hope millions affected by cancer globally Cancer an umbrella term multitude diseases characterized by uncontrolled growth spread cells stands as testament biological complexity conglomerate diseases each unique genetic mutations cellular interactions responses external factors puts forth staggering level intricacy making considerable challenge formulate execute effective treatments complexity not only confined biological dimension but also extends socioeconomic aspects cancer care diverse range cancer subtypes each distinct biological characteristics necessitates development plethora therapies each tailored target specific cancer type or stage approach while potentially effective inevitably inflates cost research development production these therapies thereby driving up overall cost cancer treatment Adding equation cancers relentless nature often demands longterm intensive treatments further escalating financial burden patients healthcare systems financial toxicity associated cancer treatment so significant often poses an insurmountable barrier access making potentially lifesaving treatments unattainable many patients context Dr Wee Kiat Tan Chief Operating Officer CytoMed Therapeutics underlines profound truth saying You could have best solution disease or treatment but if not affordable how are you going sentiment not only highlights inherent challenge cancer treatment but also brings fore core philosophy CytoMed Therapeutics develop not just effective but also affordable solutions cancer ongoing war against cancer Chimeric Antigen Receptor Tcell CART therapy has emerged as revolutionary ally By leveraging bodys own immune system fight cancer CART therapy has unlocked new avenues hope countless patients groundbreaking treatment modality involves genetically modifying patients T cells recognize destroy cancer cells effectively turning immune system into potent precise weapon against disease CART therapy which represents personalized approach cancer treatment has been particularly effective against blood cancers like leukemia lymphoma results from various clinical trials have been compelling some patients achieving complete remission term rarely associated advancedstage cancer However despite its transformative potential CART therapy has its own set challenges Firstly cost associated therapy exceptionally high largely because each CART therapy custommade each patient involving complex process extraction genetic modification reinfusion T cells high degree customization requires specialized labs sophisticated technologies skilled personnel all which contribute overall cost patientspecific nature CART therapy means cannot be massproduced or stored future use raises scalability issues particularly when attempting treat large number patients addition time taken from cell extraction reinfusion can span several weeks duration during which patients condition can potentially deteriorate light hurdles associated traditional CART therapy CytoMed Therapeutics offering potentially gamechanging alternative biotechnology company has pioneered one product many patients approach strategy eliminates need patientspecific customization thereby addressing some critical limitations traditional CART therapy At core CytoMeds strategy are Gamma Delta T cells subgroup T cells derived from healthy donors Gamma Delta T cells have long been an underappreciated part immune system but recent research has begun shed light their potential Unlike other T cells Gamma Delta T cells can recognize wide array cancers without need complex genetic modification which has conventionally been prerequisite CART therapies universal applicability these cells allows CytoMed create an offtheshelf product significant departure from traditional CART model By eliminating need patientspecific customization CytoMeds approach can reduce both cost logistical complexity associated therapy essence company working democratize access advanced cancer therapy making more accessible broader patient population By allowing largescale production therapy CytoMeds model stands significantly reduce costs associated CART treatment could potentially transform CART therapy from highcost lowvolume treatment into more affordable highvolume option shift could revolutionize cancer treatment one product many patients paradigm if successfully implemented could mark significant stride evolution CART therapy By making potent form immunotherapy more universally applicable CytoMeds approach could help bring promise CART therapy larger patient population critical step forward making cancer treatment more equitable affordable effective CytoMeds relentless drive innovation continues break new ground CART therapy Ongoing research potential advancements such as enhancing efficiency Gamma Delta T cell extraction refining their precision targeting capabilities are actively being pursued vision future where highquality cancer therapy not privilege but standard accessible all grows ever closer CytoMeds ongoing efforts Dr Tan passionately sums up aspiration You have good solution but you have make affordable']"
      ]
     },
     "execution_count": 39,
     "metadata": {},
     "output_type": "execute_result"
    }
   ],
   "source": [
    "def clean_text(text):\n",
    "    text = re.sub(r'[^\\w\\s]', '', text)\n",
    "    stop_words = set([\"the\", \"is\", \"in\", \"and\", \"to\", \"a\", \"of\", \"this\", \"that\", \"it\", \"for\", \"on\", \"with\", \"its\", \"are\", \"about\", \"though\", \"could\"])\n",
    "    return ' '.join([word for word in text.split() if word.lower() not in stop_words])\n",
    "\n",
    "df['Cleaned_Article'] = df['Article'].apply(clean_text)\n",
    "\n",
    "cleaned_articles[:5]  \n"
   ]
  },
  {
   "cell_type": "markdown",
   "metadata": {},
   "source": [
    "# Building the System"
   ]
  },
  {
   "cell_type": "markdown",
   "metadata": {},
   "source": [
    "## Mood Checkup"
   ]
  },
  {
   "cell_type": "code",
   "execution_count": 40,
   "metadata": {},
   "outputs": [],
   "source": [
    "def get_mood(article):\n",
    "    blob = TextBlob(article)\n",
    "    sentiment = blob.sentiment.polarity\n",
    "    return 'Positive' if sentiment > 0 else 'Negative' if sentiment < 0 else 'Neutral'\n",
    "\n",
    "df['Mood'] = df['Cleaned_Article'].apply(get_mood)"
   ]
  },
  {
   "cell_type": "markdown",
   "metadata": {},
   "source": [
    "## Summarizing Articles"
   ]
  },
  {
   "cell_type": "code",
   "execution_count": 42,
   "metadata": {},
   "outputs": [],
   "source": [
    "def summarize(article):\n",
    "    blob = TextBlob(article)\n",
    "    return ' '.join([str(sentence) for sentence in blob.sentences[:2]])\n",
    "\n",
    "df['Summary'] = df['Article'].apply(summarize)"
   ]
  },
  {
   "cell_type": "markdown",
   "metadata": {},
   "source": [
    "## Finding common themes"
   ]
  },
  {
   "cell_type": "code",
   "execution_count": 43,
   "metadata": {},
   "outputs": [],
   "source": [
    "def find_common_themes(articles):\n",
    "    stop_words = set([\"the\", \"is\", \"in\", \"and\", \"to\", \"a\", \"of\", \"this\", \"that\", \"it\", \"for\", \"on\", \"with\", \"its\", \"are\", \"about\", \"though\", \"could\"])\n",
    "    all_words = ' '.join(articles).split()\n",
    "    filtered_words = [word for word in all_words if word.lower() not in stop_words]\n",
    "    word_freq = Counter(filtered_words)\n",
    "    return word_freq.most_common(5)\n",
    "\n",
    "common_themes = find_common_themes(df['Cleaned_Article'])\n",
    " "
   ]
  },
  {
   "cell_type": "markdown",
   "metadata": {},
   "source": [
    "## Aspect analysis\n"
   ]
  },
  {
   "cell_type": "code",
   "execution_count": 46,
   "metadata": {},
   "outputs": [],
   "source": [
    "def aspect_analysis(article):\n",
    "    aspects = {\n",
    "        'Innovation': 'Positive',\n",
    "        'Cost': 'Negative',\n",
    "        'Overall Plan': 'Positive',\n",
    "        'Traffic Impact': 'Negative',\n",
    "        'Sustainability': 'Positive',\n",
    "        'Health Benefits': 'Positive',\n",
    "        'Economic Stability': 'Negative'\n",
    "    }\n",
    "    \n",
    "    aspect_keywords = {\n",
    "        'Innovation': ['innovation', 'innovative', 'new', 'develop'],\n",
    "        'Cost': ['cost', 'price', 'expensive', 'cheap'],\n",
    "        'Overall Plan': ['plan', 'approved', 'project', 'development'],\n",
    "        'Traffic Impact': ['traffic', 'congestion', 'commute'],\n",
    "        'Sustainability': ['sustainable', 'environment', 'eco-friendly', 'green'],\n",
    "        'Health Benefits': ['health', 'benefit', 'well-being'],\n",
    "        'Economic Stability': ['economic', 'market', 'investment', 'finance']\n",
    "    }\n",
    "    \n",
    "    article_lower = article.lower()\n",
    "    aspect_sentiments = {}\n",
    "    for aspect, keywords in aspect_keywords.items():\n",
    "        if any(keyword in article_lower for keyword in keywords):\n",
    "            aspect_sentiments[aspect] = aspects[aspect]\n",
    "    return aspect_sentiments\n",
    "\n"
   ]
  },
  {
   "cell_type": "markdown",
   "metadata": {},
   "source": [
    "## Displaying the results for each article"
   ]
  },
  {
   "cell_type": "code",
   "execution_count": 47,
   "metadata": {},
   "outputs": [],
   "source": [
    "df['Aspect_Analysis'] = df['Cleaned_Article'].apply(aspect_analysis)"
   ]
  },
  {
   "cell_type": "code",
   "execution_count": 49,
   "metadata": {},
   "outputs": [
    {
     "data": {
      "text/html": [
       "<div>\n",
       "<style scoped>\n",
       "    .dataframe tbody tr th:only-of-type {\n",
       "        vertical-align: middle;\n",
       "    }\n",
       "\n",
       "    .dataframe tbody tr th {\n",
       "        vertical-align: top;\n",
       "    }\n",
       "\n",
       "    .dataframe thead th {\n",
       "        text-align: right;\n",
       "    }\n",
       "</style>\n",
       "<table border=\"1\" class=\"dataframe\">\n",
       "  <thead>\n",
       "    <tr style=\"text-align: right;\">\n",
       "      <th></th>\n",
       "      <th>Article</th>\n",
       "      <th>Cleaned_Article</th>\n",
       "      <th>Summary</th>\n",
       "      <th>Mood</th>\n",
       "      <th>Aspect_Analysis</th>\n",
       "    </tr>\n",
       "  </thead>\n",
       "  <tbody>\n",
       "    <tr>\n",
       "      <th>0</th>\n",
       "      <td>Retailers, the makers of foods marketed for we...</td>\n",
       "      <td>Retailers makers foods marketed weight loss ot...</td>\n",
       "      <td>Retailers, the makers of foods marketed for we...</td>\n",
       "      <td>Positive</td>\n",
       "      <td>{'Innovation': 'Positive', 'Cost': 'Negative',...</td>\n",
       "    </tr>\n",
       "    <tr>\n",
       "      <th>1</th>\n",
       "      <td>Move over, Ozempic — there’s a new drug in tow...</td>\n",
       "      <td>Move over Ozempic theres new drug town Eli Lil...</td>\n",
       "      <td>Move over, Ozempic — there’s a new drug in tow...</td>\n",
       "      <td>Negative</td>\n",
       "      <td>{'Innovation': 'Positive', 'Cost': 'Negative',...</td>\n",
       "    </tr>\n",
       "    <tr>\n",
       "      <th>2</th>\n",
       "      <td>Sept 14 (Reuters) - Bristol Myers Squibb (BMY....</td>\n",
       "      <td>Sept 14 Reuters Bristol Myers Squibb BMYN said...</td>\n",
       "      <td>Sept 14 (Reuters) - Bristol Myers Squibb (BMY....</td>\n",
       "      <td>Positive</td>\n",
       "      <td>{'Innovation': 'Positive', 'Cost': 'Negative',...</td>\n",
       "    </tr>\n",
       "    <tr>\n",
       "      <th>3</th>\n",
       "      <td>Austin Wolcott was 18 years old and pretty sur...</td>\n",
       "      <td>Austin Wolcott was 18 years old pretty sure he...</td>\n",
       "      <td>Austin Wolcott was 18 years old and pretty sur...</td>\n",
       "      <td>Positive</td>\n",
       "      <td>{'Innovation': 'Positive', 'Cost': 'Negative',...</td>\n",
       "    </tr>\n",
       "    <tr>\n",
       "      <th>4</th>\n",
       "      <td>Cancer, often referred to as the “emperor of a...</td>\n",
       "      <td>Cancer often referred as emperor all maladies ...</td>\n",
       "      <td>Cancer, often referred to as the “emperor of a...</td>\n",
       "      <td>Positive</td>\n",
       "      <td>{'Innovation': 'Positive', 'Cost': 'Negative',...</td>\n",
       "    </tr>\n",
       "  </tbody>\n",
       "</table>\n",
       "</div>"
      ],
      "text/plain": [
       "                                             Article  \\\n",
       "0  Retailers, the makers of foods marketed for we...   \n",
       "1  Move over, Ozempic — there’s a new drug in tow...   \n",
       "2  Sept 14 (Reuters) - Bristol Myers Squibb (BMY....   \n",
       "3  Austin Wolcott was 18 years old and pretty sur...   \n",
       "4  Cancer, often referred to as the “emperor of a...   \n",
       "\n",
       "                                     Cleaned_Article  \\\n",
       "0  Retailers makers foods marketed weight loss ot...   \n",
       "1  Move over Ozempic theres new drug town Eli Lil...   \n",
       "2  Sept 14 Reuters Bristol Myers Squibb BMYN said...   \n",
       "3  Austin Wolcott was 18 years old pretty sure he...   \n",
       "4  Cancer often referred as emperor all maladies ...   \n",
       "\n",
       "                                             Summary      Mood  \\\n",
       "0  Retailers, the makers of foods marketed for we...  Positive   \n",
       "1  Move over, Ozempic — there’s a new drug in tow...  Negative   \n",
       "2  Sept 14 (Reuters) - Bristol Myers Squibb (BMY....  Positive   \n",
       "3  Austin Wolcott was 18 years old and pretty sur...  Positive   \n",
       "4  Cancer, often referred to as the “emperor of a...  Positive   \n",
       "\n",
       "                                     Aspect_Analysis  \n",
       "0  {'Innovation': 'Positive', 'Cost': 'Negative',...  \n",
       "1  {'Innovation': 'Positive', 'Cost': 'Negative',...  \n",
       "2  {'Innovation': 'Positive', 'Cost': 'Negative',...  \n",
       "3  {'Innovation': 'Positive', 'Cost': 'Negative',...  \n",
       "4  {'Innovation': 'Positive', 'Cost': 'Negative',...  "
      ]
     },
     "execution_count": 49,
     "metadata": {},
     "output_type": "execute_result"
    }
   ],
   "source": [
    "results = df[['Article', 'Cleaned_Article', 'Summary', 'Mood', 'Aspect_Analysis']]\n",
    "results.head()"
   ]
  },
  {
   "cell_type": "code",
   "execution_count": 50,
   "metadata": {},
   "outputs": [
    {
     "name": "stdout",
     "output_type": "stream",
     "text": [
      "Common Themes Across Articles:\n",
      "Nike: 104\n",
      "their: 93\n",
      "as: 85\n",
      "has: 85\n",
      "by: 81\n"
     ]
    }
   ],
   "source": [
    "# common themes\n",
    "print(\"Common Themes Across Articles:\")\n",
    "for theme, freq in common_themes:\n",
    "    print(f\"{theme}: {freq}\")"
   ]
  },
  {
   "cell_type": "markdown",
   "metadata": {},
   "source": [
    "## Example output for a single article\n"
   ]
  },
  {
   "cell_type": "code",
   "execution_count": 51,
   "metadata": {},
   "outputs": [
    {
     "name": "stdout",
     "output_type": "stream",
     "text": [
      "Example Article:\n",
      "Original Text: The stock market experienced a downturn today, with many companies seeing a drop in their \n",
      "share prices. Investors are worried about future economic stability\n",
      "Cleaned Text: stock market experienced downturn today many companies seeing drop their share prices Investors worried future economic stability\n",
      "Summary: stock market experienced downturn today many companies seeing drop their share prices Investors worried future economic stability\n",
      "Mood Rating: Positive\n",
      "Aspect Analysis: {'Cost': 'Negative', 'Economic Stability': 'Negative'}\n"
     ]
    }
   ],
   "source": [
    "example_article = \"\"\"The stock market experienced a downturn today, with many companies seeing a drop in their \n",
    "share prices. Investors are worried about future economic stability\"\"\"\n",
    "example_cleaned_article = clean_text(example_article)\n",
    "example_summary = summarize(example_cleaned_article)\n",
    "example_mood = get_mood(example_cleaned_article)\n",
    "example_aspects = aspect_analysis(example_cleaned_article)\n",
    "\n",
    "print(\"Example Article:\")\n",
    "print(f\"Original Text: {example_article}\")\n",
    "print(f\"Cleaned Text: {example_cleaned_article}\")\n",
    "print(f\"Summary: {example_summary}\")\n",
    "print(f\"Mood Rating: {example_mood}\")\n",
    "print(f\"Aspect Analysis: {example_aspects}\")"
   ]
  },
  {
   "cell_type": "code",
   "execution_count": null,
   "metadata": {},
   "outputs": [],
   "source": []
  }
 ],
 "metadata": {
  "kernelspec": {
   "display_name": "Python 3",
   "language": "python",
   "name": "python3"
  },
  "language_info": {
   "codemirror_mode": {
    "name": "ipython",
    "version": 3
   },
   "file_extension": ".py",
   "mimetype": "text/x-python",
   "name": "python",
   "nbconvert_exporter": "python",
   "pygments_lexer": "ipython3",
   "version": "3.11.4"
  }
 },
 "nbformat": 4,
 "nbformat_minor": 2
}
